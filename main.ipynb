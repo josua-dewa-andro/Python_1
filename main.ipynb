{
 "cells": [
  {
   "cell_type": "code",
   "execution_count": 1,
   "id": "9b59cbba",
   "metadata": {},
   "outputs": [
    {
     "name": "stdout",
     "output_type": "stream",
     "text": [
      "halo 1\n",
      "halo 2\n",
      "halo 3\n",
      "halo 4\n",
      "halo 5\n",
      "halo 6\n",
      "halo 7\n",
      "halo 8\n",
      "halo 9\n"
     ]
    }
   ],
   "source": [
    "for i in range (1,10):\n",
    "    print(\"halo\", i)"
   ]
  },
  {
   "cell_type": "code",
   "execution_count": 2,
   "id": "06d4affc",
   "metadata": {},
   "outputs": [
    {
     "name": "stdout",
     "output_type": "stream",
     "text": [
      "apel\n",
      "mangga\n",
      "jeruk\n",
      "anggur\n"
     ]
    }
   ],
   "source": [
    "arr = [\"apel\", \"mangga\", \"jeruk\", \"anggur\"] \n",
    "for i in arr:\n",
    "    print(i)"
   ]
  },
  {
   "cell_type": "code",
   "execution_count": 3,
   "id": "436f214a",
   "metadata": {},
   "outputs": [
    {
     "name": "stdout",
     "output_type": "stream",
     "text": [
      "12\n",
      "1.5\n",
      "True\n",
      "wedus ireng\n",
      "None\n"
     ]
    }
   ],
   "source": [
    "arr = [12, 1.5, True, \"wedus ireng\", None] #ini dapat digunakan lebih dari 1 tipe data\n",
    "for i in arr:\n",
    "    print(i)"
   ]
  },
  {
   "cell_type": "code",
   "execution_count": 4,
   "id": "e97a71f3",
   "metadata": {},
   "outputs": [
    {
     "name": "stdout",
     "output_type": "stream",
     "text": [
      "x 0\n",
      "gagak medan 0\n",
      "apel 0\n",
      "apel 1\n",
      "apel 2\n",
      "gagak medan 1\n",
      "apel 0\n",
      "apel 1\n",
      "apel 2\n",
      "gagak medan 2\n",
      "apel 0\n",
      "apel 1\n",
      "apel 2\n",
      "x 1\n",
      "gagak medan 0\n",
      "apel 0\n",
      "apel 1\n",
      "apel 2\n",
      "gagak medan 1\n",
      "apel 0\n",
      "apel 1\n",
      "apel 2\n",
      "gagak medan 2\n",
      "apel 0\n",
      "apel 1\n",
      "apel 2\n",
      "x 2\n",
      "gagak medan 0\n",
      "apel 0\n",
      "apel 1\n",
      "apel 2\n",
      "gagak medan 1\n",
      "apel 0\n",
      "apel 1\n",
      "apel 2\n",
      "gagak medan 2\n",
      "apel 0\n",
      "apel 1\n",
      "apel 2\n"
     ]
    }
   ],
   "source": [
    "for i in range(0,3):\n",
    "    print('x', i)\n",
    "    for j in range (0,3):\n",
    "        print(\"gagak medan\", j)\n",
    "        for k in range (0,3):\n",
    "            print(\"apel\", k)"
   ]
  },
  {
   "cell_type": "code",
   "execution_count": 5,
   "id": "8f76ea58",
   "metadata": {},
   "outputs": [
    {
     "name": "stdout",
     "output_type": "stream",
     "text": [
      "apel 0\n",
      "pisang 0\n",
      "jeruk 0\n",
      "jeruk 1\n",
      "jeruk 2\n",
      "pisang 1\n",
      "jeruk 0\n",
      "jeruk 1\n",
      "jeruk 2\n",
      "pisang 2\n",
      "jeruk 0\n",
      "jeruk 1\n",
      "jeruk 2\n",
      "apel 1\n",
      "pisang 0\n",
      "jeruk 0\n",
      "jeruk 1\n",
      "jeruk 2\n",
      "pisang 1\n",
      "jeruk 0\n",
      "jeruk 1\n",
      "jeruk 2\n",
      "pisang 2\n",
      "jeruk 0\n",
      "jeruk 1\n",
      "jeruk 2\n",
      "apel 2\n",
      "pisang 0\n",
      "jeruk 0\n",
      "jeruk 1\n",
      "jeruk 2\n",
      "pisang 1\n",
      "jeruk 0\n",
      "jeruk 1\n",
      "jeruk 2\n",
      "pisang 2\n",
      "jeruk 0\n",
      "jeruk 1\n",
      "jeruk 2\n"
     ]
    }
   ],
   "source": [
    "for i in range(0,3):\n",
    "    print(\"apel\", i)\n",
    "    for j in range(0,3):\n",
    "        print(\"pisang\", j)\n",
    "        for k in range(0,3):\n",
    "            print(\"jeruk\", k)"
   ]
  },
  {
   "cell_type": "code",
   "execution_count": 6,
   "id": "d8c39fcd",
   "metadata": {},
   "outputs": [
    {
     "name": "stdout",
     "output_type": "stream",
     "text": [
      "hai 0\n",
      "hai 1\n",
      "hai 2\n",
      "hai 3\n",
      "hai 4\n",
      "hai 5\n",
      "hai 6\n",
      "apel 6\n"
     ]
    }
   ],
   "source": [
    "for i in range(0,10):\n",
    "    print('hai' ,i )\n",
    "    if i > 5:\n",
    "        print('apel',i)\n",
    "        break"
   ]
  },
  {
   "cell_type": "code",
   "execution_count": 7,
   "id": "712e28ff",
   "metadata": {},
   "outputs": [
    {
     "name": "stdout",
     "output_type": "stream",
     "text": [
      "hai 0\n",
      "hai 1\n",
      "hai 2\n",
      "hai 3\n",
      "hai 4\n",
      "hai 6\n",
      "hai 7\n",
      "hai 8\n",
      "hai 9\n"
     ]
    }
   ],
   "source": [
    "for i in range (0,10):\n",
    "    if i == 5:\n",
    "        continue\n",
    "        print(\"apel\", i)\n",
    "        print(\"pisang\")\n",
    "    print('hai', i)"
   ]
  },
  {
   "cell_type": "code",
   "execution_count": 8,
   "id": "0d671b01",
   "metadata": {},
   "outputs": [
    {
     "name": "stdout",
     "output_type": "stream",
     "text": [
      "a\n"
     ]
    }
   ],
   "source": [
    "a = True\n",
    "while a:\n",
    "    print ('a')\n",
    "    a = False"
   ]
  },
  {
   "cell_type": "code",
   "execution_count": 9,
   "id": "673927b0",
   "metadata": {},
   "outputs": [
    {
     "name": "stdout",
     "output_type": "stream",
     "text": [
      "21\n"
     ]
    }
   ],
   "source": [
    "def tambah(a, b):\n",
    "    print(a + b)\n",
    "\n",
    "tambah(1, 20)"
   ]
  },
  {
   "cell_type": "code",
   "execution_count": 10,
   "id": "a1148369",
   "metadata": {},
   "outputs": [
    {
     "name": "stdout",
     "output_type": "stream",
     "text": [
      "*\n",
      "**\n",
      "***\n",
      "****\n",
      "*****\n",
      "******\n"
     ]
    }
   ],
   "source": [
    "for i in range (0, 6):\n",
    "    print ('*'*(i+1))"
   ]
  },
  {
   "cell_type": "code",
   "execution_count": 11,
   "id": "692aadfe",
   "metadata": {},
   "outputs": [
    {
     "name": "stdout",
     "output_type": "stream",
     "text": [
      "*\n",
      "***\n",
      "*****\n",
      "*******\n",
      "*********\n"
     ]
    }
   ],
   "source": [
    "i = 0\n",
    "while i < 10:\n",
    "    print ('*'*(i+1))\n",
    "    i += 2"
   ]
  },
  {
   "cell_type": "code",
   "execution_count": 12,
   "id": "cd9c78ff",
   "metadata": {},
   "outputs": [
    {
     "name": "stdout",
     "output_type": "stream",
     "text": [
      "**********\n"
     ]
    }
   ],
   "source": [
    "print ('**'*5)"
   ]
  },
  {
   "cell_type": "code",
   "execution_count": 13,
   "id": "8f77ca94",
   "metadata": {},
   "outputs": [
    {
     "name": "stdout",
     "output_type": "stream",
     "text": [
      "*********\n",
      "*******\n",
      "*****\n",
      "***\n",
      "*\n"
     ]
    }
   ],
   "source": [
    "i = 10\n",
    "while i > 0:\n",
    "    print ('*'*(i-1))\n",
    "    i -= 2"
   ]
  },
  {
   "cell_type": "code",
   "execution_count": 14,
   "id": "00938f11",
   "metadata": {},
   "outputs": [
    {
     "name": "stdout",
     "output_type": "stream",
     "text": [
      "    *\n",
      "   ***\n",
      "  *****\n",
      " *******\n",
      "*********\n"
     ]
    }
   ],
   "source": [
    "i = 1\n",
    "tinggi = 5\n",
    "\n",
    "while i <= tinggi:\n",
    "    spasi = tinggi - i\n",
    "    print(' '*spasi + '*'*(2*i-1))\n",
    "    i += 1\n",
    "   \n",
    "    \n",
    "                                                                          \n",
    "    "
   ]
  },
  {
   "cell_type": "code",
   "execution_count": 15,
   "id": "7eb3a0d9",
   "metadata": {},
   "outputs": [
    {
     "name": "stdout",
     "output_type": "stream",
     "text": [
      "         \n",
      "        *\n",
      "       **\n",
      "      ***\n",
      "     ****\n",
      "    *****\n",
      "   ******\n",
      "  *******\n",
      " ********\n",
      "*********\n"
     ]
    }
   ],
   "source": [
    "i = 1\n",
    "tinggi = 10\n",
    "\n",
    "while i <= tinggi:\n",
    "    spasi = tinggi - i\n",
    "    print(' '*spasi + '*'*(i-1))\n",
    "    i += 1\n",
    "   \n",
    "    \n",
    "                                                                          \n",
    "    "
   ]
  }
 ],
 "metadata": {
  "kernelspec": {
   "display_name": "Python 3",
   "language": "python",
   "name": "python3"
  },
  "language_info": {
   "codemirror_mode": {
    "name": "ipython",
    "version": 3
   },
   "file_extension": ".py",
   "mimetype": "text/x-python",
   "name": "python",
   "nbconvert_exporter": "python",
   "pygments_lexer": "ipython3",
   "version": "3.13.5"
  }
 },
 "nbformat": 4,
 "nbformat_minor": 5
}
